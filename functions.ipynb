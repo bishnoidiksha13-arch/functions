{
  "nbformat": 4,
  "nbformat_minor": 0,
  "metadata": {
    "colab": {
      "provenance": []
    },
    "kernelspec": {
      "name": "python3",
      "display_name": "Python 3"
    },
    "language_info": {
      "name": "python"
    }
  },
  "cells": [
    {
      "cell_type": "markdown",
      "source": [
        "#FUNCTIONS"
      ],
      "metadata": {
        "id": "mLU8b5h5CMcF"
      }
    },
    {
      "cell_type": "markdown",
      "source": [
        "1. What is the difference between a function and a method in Python?\n",
        "   - Functions: are independent and can be called anywhere without an object.\n",
        "   - Methods: are bound to a class and are called on instances of that class, allowing them to interact with the object's data and behavior.\n",
        "   -  example\n",
        "   def my_function():\n",
        "  print(\"Hello from a function\")\n",
        "   - method example\n",
        "   text = \" hello from the function\"\n",
        "   pritn(text.upper())\n",
        "  \n",
        "\n",
        "2. Explain the concept of function arguments and parameters in Python.\n",
        "   - The terms parameter and argument can be used for the same thing:\n",
        "   information that are passed into a function.\n",
        "\n",
        "   From a function's perspective:\n",
        "   - A parameter is the variable listed inside the parentheses in the function definition.\n",
        "   - An argument is the value that is sent to the function when it is called.\n",
        "   - EXAMPLE : 2 arguments i.e lname and fname\n",
        "   def my_function(fname, lname):\n",
        "   return fname + \" \" + lname\n",
        "   my_function(\"tamanna\", \"johar\")\n",
        "\n",
        "3. What are the different ways to define and call a function in Python?\n",
        "   - In Python a function is defined using the **def** keyword\n",
        "   - Name of the Function: Describes the function and should be meaningful.\n",
        "   - Parameters (Arguments): Variables passed into the function. Functions can have multiple parameters or none at all.\n",
        "   - Docstring: A string that contains information about the purpose and behavior of the function.\n",
        "   - Code Block: Contains the actual code to be executed within the function.\n",
        "   - Return Statement: Determines the value that the function will return. If not included, the function defaults to returning None.\n",
        "\n",
        "   EXAMPLE\n",
        "   \n",
        "   def my_function(A,B):\n",
        "   \n",
        "   retrun A+B\n",
        "\n",
        "   my_function(2,5)\n",
        "\n",
        "   - To call a function, use the function name followed by parenthesis e.g : my_function(2,5)\n",
        "\n",
        "4. What is the purpose of the `return` statement in a Python function?\n",
        "   - It's used to send a value back to the caller. If omitted, the function implicitly returns None.\n",
        "\n",
        "5. What are iterators in Python and how do they differ from iterables?\n",
        "   - An iterator is an object that allows traversal through a countable number of values. It is used to iterate over iterable objects like lists, tuples, sets, etc\n",
        "   - example\n",
        "\n",
        "   list : iter([\"rahul\", \"sham\", \" ajay\"])\n",
        "   print(next(list))\n",
        "   print (next(list))\n",
        "   print(next(list))\n",
        "\n",
        "   - iterable : objects that can produce or return element one by one where as iterator : the itermediate stage where u can create an object that can be iterated .\n",
        "\n",
        "6. Explain the concept of generators in Python and how they are defined.\n",
        "  - Generators are a simple way to create iterators using functions and the yield keyword instead of returning values.\n",
        "  - On-Demand Data: Generators produce values one at a time and only when required, avoiding the need to generate or store all values upfront.\n",
        " - Memory Efficiency: Since values are generated as needed and not all at once, generators use minimal memory.\n",
        " - Iterables: Generators return data in an iterable format, allowing the sequence to be iterated over, much like a list or tuple.\n",
        "\n",
        "7. What are the advantages of using generators over regular functions?\n",
        " - Efficient Memory Usage: Generators do not store the entire sequence in memory, making them suitable for large datasets or infinite sequences.\n",
        " - Simpler Syntax: Using yield simplifies the creation of iterators, making the code more concise and readable.\n",
        "\n",
        "\n",
        "8. What is a lambda function in Python and when is it typically used?\n",
        " - A lambda function is a small anonymous function.\n",
        " - A lambda function can take any number of arguments, but can only have one expression.\n",
        " - lambda argument: expression\n",
        " - hey are used for creating small, throwaway functions without the need to formally define a function using def\n",
        " - x = lambda x : x + 4\n",
        "   print(x(5))\n",
        "\n",
        "9. Explain the purpose and usage of the `map()` function in Python.\n",
        " - The map function applies a given function to all items in an input iterable (like a list) and returns an iterator with the results.\n",
        " - Used to transform each item in an iterable by applying the specified function.\n",
        " - x = [1,6,8]\n",
        "   y = [8,9,5]\n",
        "   list(map( lambda x,y : x + y , x,y))\n",
        " -\n",
        "\n",
        "10. What is the difference between `map()`, `reduce()`, and `filter()` functions in Python?\n",
        " - map(function, iterable): Applies a given function to each item in an iterable and returns an iterator that yields the results.\n",
        "    - x = [1,6,8]\n",
        "   list(map( lambda x : x **2 , x))\n",
        "\n",
        " - filter(function, iterable): Constructs an iterator from elements of an iterable for which the function returns True. The function must return a boolean value.\n",
        "  x = [1,6,8]\n",
        "   list(filter( lambda x: x% 2 == 0 , x))\n",
        "\n",
        " - reduce(function, iterable[, initial]): Applies a function cumulatively to the items of an iterable, from left to right, so as to reduce the iterable to a single value. This function is part of the functools module and needs to be imported.\n",
        "  num= [1,6,8]\n",
        "   sumnum = reduce( lambda x,y : x + y , num)\n",
        "   print(sumnum)\n",
        "\n",
        "11. Using pen & Paper write the internal mechanism for sum operation using  reduce function on this given\n",
        "list:[47,11,42,13];"
      ],
      "metadata": {
        "id": "Kb7OKDEFCYEP"
      }
    },
    {
      "cell_type": "markdown",
      "source": [
        "#numericals"
      ],
      "metadata": {
        "id": "JMHhchz_ULU9"
      }
    },
    {
      "cell_type": "code",
      "source": [
        "from functools import reduce\n",
        "''' Write a Python function that takes a list of numbers as input and returns the sum of all even numbers in\n",
        "the list.'''\n",
        "def sum_of_even(numbers):\n",
        "  return sum(num for num in numbers if num%2==0)\n",
        "print(sum_of_even([5,8,9,6,3]))"
      ],
      "metadata": {
        "colab": {
          "base_uri": "https://localhost:8080/"
        },
        "id": "pJCBt1BGEVKv",
        "outputId": "e520ee79-5d94-457d-9fc0-029821e8ea89"
      },
      "execution_count": 26,
      "outputs": [
        {
          "output_type": "stream",
          "name": "stdout",
          "text": [
            "14\n"
          ]
        }
      ]
    },
    {
      "cell_type": "code",
      "source": [
        "# Create a Python function that accepts a string and returns the reverse of that string\n",
        "def string(a):\n",
        " return a[::-1]\n",
        "string(\"hello world!\")"
      ],
      "metadata": {
        "colab": {
          "base_uri": "https://localhost:8080/",
          "height": 36
        },
        "id": "BAHqhD-qVxuK",
        "outputId": "fe8f1f47-51a2-4632-d50e-78076ab73cf7"
      },
      "execution_count": 5,
      "outputs": [
        {
          "output_type": "execute_result",
          "data": {
            "text/plain": [
              "'!dlrow olleh'"
            ],
            "application/vnd.google.colaboratory.intrinsic+json": {
              "type": "string"
            }
          },
          "metadata": {},
          "execution_count": 5
        }
      ]
    },
    {
      "cell_type": "code",
      "source": [
        "'''3. Implement a Python function that takes a list of integers and returns a new list containing the squares of\n",
        "each number.'''\n",
        "def square_list(number):\n",
        "  return [num**2 for num in number]\n",
        "square_list([5,9,7,8])\n"
      ],
      "metadata": {
        "colab": {
          "base_uri": "https://localhost:8080/"
        },
        "id": "TXstaIsm33wS",
        "outputId": "c32c0763-b696-4392-90d2-f0c167e19dbb"
      },
      "execution_count": 18,
      "outputs": [
        {
          "output_type": "execute_result",
          "data": {
            "text/plain": [
              "[25, 81, 49, 64]"
            ]
          },
          "metadata": {},
          "execution_count": 18
        }
      ]
    },
    {
      "cell_type": "code",
      "source": [
        "#  Write a Python function that checks if a given number is prime or not from 1 to 200\n",
        "import math\n",
        "def prime_number(num):\n",
        "  if num <= 1:\n",
        "    return False\n",
        "  for i in range(2,int(num**0.5) +1 ):\n",
        "    if num % i ==0:\n",
        "      return False\n",
        "  return True\n",
        "primes = [n for n in range(1, 201) if prime_number(n)]\n",
        "print(primes)\n",
        "\n",
        "\n"
      ],
      "metadata": {
        "colab": {
          "base_uri": "https://localhost:8080/"
        },
        "id": "yG04WofN6uSU",
        "outputId": "de24ae3b-acd1-41cd-e23a-bdb72e9d7965"
      },
      "execution_count": 31,
      "outputs": [
        {
          "output_type": "stream",
          "name": "stdout",
          "text": [
            "[2, 3, 5, 7, 11, 13, 17, 19, 23, 29, 31, 37, 41, 43, 47, 53, 59, 61, 67, 71, 73, 79, 83, 89, 97, 101, 103, 107, 109, 113, 127, 131, 137, 139, 149, 151, 157, 163, 167, 173, 179, 181, 191, 193, 197, 199]\n"
          ]
        }
      ]
    },
    {
      "cell_type": "code",
      "source": [
        "''' Create an iterator class in Python that generates the Fibonacci sequence up to a specified number of\n",
        "terms.'''\n",
        "class FibonacciIterator:\n",
        " def __init__(self, n_terms):\n",
        "        self.n_terms = n_terms\n",
        "        self.count = 0\n",
        "        self.a, self.b = 0, 1\n",
        "\n",
        " def __iter__(self):\n",
        "        return self\n",
        "\n",
        " def __next__(self):\n",
        "        if self.count < self.n_terms:\n",
        "            value = self.a\n",
        "            self.a, self.b = self.b, self.a + self.b\n",
        "            self.count += 1\n",
        "            return value\n",
        "        else:\n",
        "            raise StopIteration\n",
        "\n",
        "\n",
        "for num in FibonacciIterator(10):\n",
        "    print(num, end=\" \")"
      ],
      "metadata": {
        "id": "GDXw0s8V8to6",
        "colab": {
          "base_uri": "https://localhost:8080/"
        },
        "outputId": "6a90f0e8-c656-435d-a99c-db910b7c804b"
      },
      "execution_count": 38,
      "outputs": [
        {
          "output_type": "stream",
          "name": "stdout",
          "text": [
            "0 1 1 2 3 5 8 13 21 34 "
          ]
        }
      ]
    },
    {
      "cell_type": "code",
      "source": [
        "'''Write a generator function in Python that yields the powers of 2 up to a given exponent'''\n",
        "\n",
        "def powers_of_two(n):\n",
        "    for i in range(n + 1):\n",
        "        yield 2 ** i\n",
        "print(list(powers_of_two(7)))"
      ],
      "metadata": {
        "colab": {
          "base_uri": "https://localhost:8080/"
        },
        "id": "dvFTXI4gVjeQ",
        "outputId": "971331db-ef5f-4e79-e541-21b7f89a3e3e"
      },
      "execution_count": 40,
      "outputs": [
        {
          "output_type": "stream",
          "name": "stdout",
          "text": [
            "[1, 2, 4, 8, 16, 32, 64, 128]\n"
          ]
        }
      ]
    },
    {
      "cell_type": "code",
      "source": [
        "#Use a lambda function in Python to sort a list of tuples based on the second element of each tuple.\n",
        "data = [(1, 3), (2, 1), (4, 2), (3, 5)]\n",
        "sorted_data = sorted(data, key=lambda x: x[1])\n",
        "print(sorted_data)"
      ],
      "metadata": {
        "colab": {
          "base_uri": "https://localhost:8080/"
        },
        "id": "hLrRUoRaXKIz",
        "outputId": "6924603b-b15c-4a94-868c-4a5d273aa067"
      },
      "execution_count": 42,
      "outputs": [
        {
          "output_type": "stream",
          "name": "stdout",
          "text": [
            "[(2, 1), (4, 2), (1, 3), (3, 5)]\n"
          ]
        }
      ]
    },
    {
      "cell_type": "code",
      "source": [
        "# Write a Python program that uses `map()` to convert a list of temperatures from Celsius to Fahrenheit.\n",
        "celsius = [0, 10, 20, 30, 40]\n",
        "fahrenheit = list(map(lambda c: (c * 9/5) + 32, celsius))\n",
        "print(fahrenheit)"
      ],
      "metadata": {
        "colab": {
          "base_uri": "https://localhost:8080/"
        },
        "id": "X7mXldHNXkjP",
        "outputId": "7daa0bee-623c-4d9c-a665-2c56f66244aa"
      },
      "execution_count": 43,
      "outputs": [
        {
          "output_type": "stream",
          "name": "stdout",
          "text": [
            "[32.0, 50.0, 68.0, 86.0, 104.0]\n"
          ]
        }
      ]
    },
    {
      "cell_type": "code",
      "source": [
        "from os import remove\n",
        "# Create a Python program that uses `filter()` to remove all the vowels from a given string.\n",
        "def remove_vowels(s):\n",
        "    return \"\".join(filter(lambda ch: ch.lower() not in \"aeiou\", s))\n",
        "remove_vowels(\"hello world\")\n"
      ],
      "metadata": {
        "colab": {
          "base_uri": "https://localhost:8080/",
          "height": 36
        },
        "id": "wxaiODGIXz8m",
        "outputId": "d1084355-c3eb-41bb-9849-9b5709532270"
      },
      "execution_count": 51,
      "outputs": [
        {
          "output_type": "execute_result",
          "data": {
            "text/plain": [
              "'hll wrld'"
            ],
            "application/vnd.google.colaboratory.intrinsic+json": {
              "type": "string"
            }
          },
          "metadata": {},
          "execution_count": 51
        }
      ]
    },
    {
      "cell_type": "code",
      "source": [
        "# Implement a generator function that reads a file line by line and yields each line as a string\n",
        "with open(\"example.txt\", \"w\" ) as f :\n",
        "  f.write(\"hello, this is example text\")\n",
        "\n",
        "def read_file_lines(filename):\n",
        "    with open(filename, \"r\") as file:\n",
        "        for line in file:\n",
        "            yield line.strip()\n",
        "for line in read_file_lines(\"example.txt\"):\n",
        "      print(line)"
      ],
      "metadata": {
        "colab": {
          "base_uri": "https://localhost:8080/"
        },
        "id": "Fsmr48-fYsoQ",
        "outputId": "6a9cbfbc-66d0-4218-a782-e938d4b16325"
      },
      "execution_count": 53,
      "outputs": [
        {
          "output_type": "stream",
          "name": "stdout",
          "text": [
            "hello, this is example text\n"
          ]
        }
      ]
    },
    {
      "cell_type": "code",
      "source": [
        "'''  Imagine an accounting routine used in a book shop. It works on a list with sublists, which look like this:\n",
        "\n",
        "\n",
        "\n",
        "\n",
        "\n",
        "\n",
        "\n",
        "Write a Python program, which returns a list with 2-tuples. Each tuple consists of the order number and the\n",
        "product of the price per item and the quantity. The product should be increased by 10,- € if the value of the\n",
        "order is smaller than 100,00 €.\n",
        "\n",
        "Write a Python program using lambda and map.'''\n",
        "orders = [\n",
        "[34587, \"Learning Python, Mark Lutz\", 4, 40.95],\n",
        "[98762, \"Programming Python, Mark Lutz\", 5, 56.80],\n",
        "[77226, \"Head First Python, Paul Barry\", 3, 32.95],\n",
        "[88112, \"Einführung in Python3, Bernd Klein\", 3, 24.99]\n",
        "]\n",
        "result = list (map(lambda order: (order[0],order[2]*order[3]+(10 if order[2]* order[3] < 100 else 0)),orders))\n",
        "print(result)"
      ],
      "metadata": {
        "colab": {
          "base_uri": "https://localhost:8080/"
        },
        "id": "89rxZoRgZDXY",
        "outputId": "ef536ef2-24bb-460b-b810-021815b5ca42"
      },
      "execution_count": 54,
      "outputs": [
        {
          "output_type": "stream",
          "name": "stdout",
          "text": [
            "[(34587, 163.8), (98762, 284.0), (77226, 108.85000000000001), (88112, 84.97)]\n"
          ]
        }
      ]
    },
    {
      "cell_type": "code",
      "source": [],
      "metadata": {
        "id": "MLvKpe5cePtp"
      },
      "execution_count": null,
      "outputs": []
    }
  ]
}